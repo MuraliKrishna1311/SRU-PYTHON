{
 "cells": [
  {
   "cell_type": "code",
   "execution_count": 4,
   "metadata": {},
   "outputs": [
    {
     "name": "stdout",
     "output_type": "stream",
     "text": [
      "0.30000000000000004\n",
      "1.82\n",
      "True\n",
      "False\n",
      "predict output .....\n"
     ]
    }
   ],
   "source": [
    "# 1st \n",
    "\n",
    "print(0.1+0.2)\n",
    "print(\"1.8\"+\"2\")\n",
    "print(87>78)\n",
    "print((0.1+0.2)==0.3)\n",
    "print(\"predict \" \"output\",\".....\")"
   ]
  },
  {
   "cell_type": "raw",
   "metadata": {},
   "source": []
  },
  {
   "cell_type": "code",
   "execution_count": 4,
   "metadata": {},
   "outputs": [
    {
     "name": "stdout",
     "output_type": "stream",
     "text": [
      "Prints multiple  messages\n",
      "\n",
      "Concatenate two strings\n",
      "\n"
     ]
    },
    {
     "ename": "TypeError",
     "evalue": "unsupported operand type(s) for +: 'int' and 'str'",
     "output_type": "error",
     "traceback": [
      "\u001b[1;31m---------------------------------------------------------------------------\u001b[0m",
      "\u001b[1;31mTypeError\u001b[0m                                 Traceback (most recent call last)",
      "\u001b[1;32m<ipython-input-4-d56bd52f5fea>\u001b[0m in \u001b[0;36m<module>\u001b[1;34m\u001b[0m\n\u001b[0;32m      1\u001b[0m \u001b[0mprint\u001b[0m\u001b[1;33m(\u001b[0m\u001b[1;34m\"Prints\"\u001b[0m\u001b[1;33m,\u001b[0m\u001b[1;34m\"multiple \"\u001b[0m\u001b[1;33m,\u001b[0m\u001b[1;34m\"messages\\n\"\u001b[0m\u001b[1;33m)\u001b[0m\u001b[1;33m\u001b[0m\u001b[1;33m\u001b[0m\u001b[0m\n\u001b[0;32m      2\u001b[0m \u001b[0mprint\u001b[0m\u001b[1;33m(\u001b[0m\u001b[1;34m\"Concatenate \"\u001b[0m\u001b[1;33m+\u001b[0m\u001b[1;34m\"two strings\\n\"\u001b[0m\u001b[1;33m)\u001b[0m\u001b[1;33m\u001b[0m\u001b[1;33m\u001b[0m\u001b[0m\n\u001b[1;32m----> 3\u001b[1;33m \u001b[0mprint\u001b[0m\u001b[1;33m(\u001b[0m\u001b[1;36m5\u001b[0m\u001b[1;33m+\u001b[0m\u001b[1;36m6\u001b[0m\u001b[1;33m+\u001b[0m\u001b[1;34m\" adds two numbers\\n\"\u001b[0m\u001b[1;33m)\u001b[0m\u001b[1;31m#concatination of number and string is not possible\u001b[0m\u001b[1;33m\u001b[0m\u001b[1;33m\u001b[0m\u001b[0m\n\u001b[0m",
      "\u001b[1;31mTypeError\u001b[0m: unsupported operand type(s) for +: 'int' and 'str'"
     ]
    }
   ],
   "source": [
    "# 2nd \n",
    "\n",
    "print(\"Prints\",\"multiple \",\"messages\\n\")\n",
    "print(\"Concatenate \"+\"two strings\\n\")\n",
    "print(5+6+\" adds two numbers\\n\")#concatination of number and string is not possible"
   ]
  },
  {
   "cell_type": "code",
   "execution_count": 16,
   "metadata": {},
   "outputs": [
    {
     "name": "stdout",
     "output_type": "stream",
     "text": [
      "banana\n",
      "C:\\naresh\\raju\\abhi\n"
     ]
    }
   ],
   "source": [
    "# 3rd\n",
    "        \n",
    "print(\"ba\"+\"na\"*2) #string concatination\n",
    "print(r\"C:\\naresh\\raju\\abhi\") #to skip escape character"
   ]
  },
  {
   "cell_type": "code",
   "execution_count": 3,
   "metadata": {},
   "outputs": [
    {
     "name": "stdout",
     "output_type": "stream",
     "text": [
      "g anytow\n",
      "sscc\n"
     ]
    }
   ],
   "source": [
    "# 4th\n",
    "\n",
    "print('welcome to python traing program'[-4::-4])\n",
    "print('A series of characters designated as one object known as a string'[2:18:5])"
   ]
  },
  {
   "cell_type": "code",
   "execution_count": 34,
   "metadata": {},
   "outputs": [
    {
     "name": "stdout",
     "output_type": "stream",
     "text": [
      "taawkcbe  tgestrcoeeA\n",
      "-----------\n",
      "ot emoc\n"
     ]
    }
   ],
   "source": [
    "# 5th\n",
    "\n",
    "print('A series of characters designated as one object known as a string'[::-1][4::3])\n",
    "# first the string will reversed and from the starting 4th indexed element it prints the elements bu skiping the 3 elements \n",
    "print('-----------')\n",
    "print('Welcome to Python traing program'[3:10][::-1])\n",
    "# first it it slices the string from the 3rd index position to 9th index position (excliding the max limit) \n",
    "# then the string will be reversed"
   ]
  },
  {
   "cell_type": "code",
   "execution_count": 36,
   "metadata": {},
   "outputs": [
    {
     "name": "stdout",
     "output_type": "stream",
     "text": [
      "True\n",
      "False\n"
     ]
    }
   ],
   "source": [
    "# 6th (a)\n",
    "\n",
    "str1 = True\n",
    "x = 5>3\n",
    "print(str1==x)\n",
    "y = 5>8\n",
    "print(str1==y)# special operators returns boolian values"
   ]
  },
  {
   "cell_type": "code",
   "execution_count": 6,
   "metadata": {},
   "outputs": [
    {
     "name": "stdout",
     "output_type": "stream",
     "text": [
      "True\n"
     ]
    }
   ],
   "source": [
    "# 6th (b)\n",
    "\n",
    "num = 7\n",
    "Name = \"Michael Jackson\"\n",
    "sear_num = Name.find('el')\n",
    "print(num>sear_num)"
   ]
  },
  {
   "cell_type": "code",
   "execution_count": 13,
   "metadata": {},
   "outputs": [
    {
     "name": "stdout",
     "output_type": "stream",
     "text": [
      "was it a car or a cat I saw\n",
      "WAS I TAC A RO RAC A TI SAW\n"
     ]
    }
   ],
   "source": [
    "# 7th\n",
    "\n",
    "p_phrase = input()\n",
    "p_phrase =p_phrase[::-1]#it reverse the string\n",
    "print(p_phrase.upper())# it changes lower case letters to UPPER case letters\n"
   ]
  },
  {
   "cell_type": "code",
   "execution_count": 18,
   "metadata": {},
   "outputs": [
    {
     "name": "stdout",
     "output_type": "stream",
     "text": [
      "946\n"
     ]
    },
    {
     "data": {
      "text/plain": [
       "int"
      ]
     },
     "execution_count": 18,
     "metadata": {},
     "output_type": "execute_result"
    }
   ],
   "source": [
    "# 8th\n",
    "\n",
    "A = '1934567'\n",
    "A = int(A[1::2])#slicing the string from index-1 by skiping 2 elements\n",
    "print(A)\n",
    "type(A)"
   ]
  },
  {
   "cell_type": "code",
   "execution_count": 19,
   "metadata": {},
   "outputs": [
    {
     "data": {
      "text/plain": [
       "['EKIL', 'GNIDAERPS', 'ROF', 'KCANK']"
      ]
     },
     "execution_count": 19,
     "metadata": {},
     "output_type": "execute_result"
    }
   ],
   "source": [
    "# 9th\n",
    "\n",
    "fake_phrase = \"Fake news has a knack for spreading like wild fire\"\n",
    "fake_phrase = (fake_phrase.upper()[-11:-35:-1]).split()#evaluvates inner parentheses then the outer module \n",
    "fake_phrase"
   ]
  },
  {
   "cell_type": "code",
   "execution_count": 21,
   "metadata": {},
   "outputs": [
    {
     "name": "stdout",
     "output_type": "stream",
     "text": [
      "['Facebook', 'already', 'uses', 'AI', 'to', 'Filter', 'Fake', 'stories', 'from', 'the', 'feeds', 'of', 'users']\n"
     ]
    }
   ],
   "source": [
    "# 10th\n",
    "\n",
    "msg1 = \"Facebook already uses AI to Filter Fake stories from the feeds of users\"\n",
    "print(msg1.split())"
   ]
  },
  {
   "cell_type": "code",
   "execution_count": 22,
   "metadata": {},
   "outputs": [
    {
     "data": {
      "text/plain": [
       "' rs ot'"
      ]
     },
     "execution_count": 22,
     "metadata": {},
     "output_type": "execute_result"
    }
   ],
   "source": [
    "# 11th\n",
    "\n",
    "msg2 = \"Welcome to sr engineering college\"\n",
    "x = msg2.count('o')\n",
    "y = msg2.count('r')\n",
    "msg2[y**x:(x**y+x+y):][::-1]"
   ]
  },
  {
   "cell_type": "code",
   "execution_count": 32,
   "metadata": {},
   "outputs": [
    {
     "data": {
      "text/plain": [
       "True"
      ]
     },
     "execution_count": 32,
     "metadata": {},
     "output_type": "execute_result"
    }
   ],
   "source": [
    "# 12th (a)\n",
    "\n",
    "num1,num2 = \"94\",\"30\"\n",
    "data = \"As per Census 2011, Gender ratio of India is 943 females per 1000 males\"\n",
    "num1 + num2[0] in data"
   ]
  },
  {
   "cell_type": "code",
   "execution_count": 24,
   "metadata": {},
   "outputs": [
    {
     "name": "stdout",
     "output_type": "stream",
     "text": [
      "124\n",
      "As per Census 2011, Gender ratio of India is  None\n"
     ]
    }
   ],
   "source": [
    "# 12th (b)\n",
    "\n",
    "print(data[:45],print(int(num1)+int(num2)))"
   ]
  },
  {
   "cell_type": "code",
   "execution_count": 25,
   "metadata": {},
   "outputs": [
    {
     "name": "stdout",
     "output_type": "stream",
     "text": [
      "Enter the INITIAL TEMP in degree celsius :: 10\n",
      "Enter the FINAL TEMP in degree celsius :: 20\n",
      "Enter the WEIGHT OF WATER in kg :: 25\n",
      "ENERGY =  1046000  joules\n"
     ]
    }
   ],
   "source": [
    "# 13th\n",
    "\n",
    "it = int(input(\"Enter the INITIAL TEMP in degree celsius :: \"))\n",
    "ft = int(input(\"Enter the FINAL TEMP in degree celsius :: \"))\n",
    "m = int(input(\"Enter the WEIGHT OF WATER in kg :: \"))\n",
    "q = m * (ft - it) * 4184\n",
    "print(\"ENERGY = \", q, \" joules\")"
   ]
  },
  {
   "cell_type": "code",
   "execution_count": 30,
   "metadata": {},
   "outputs": [
    {
     "name": "stdout",
     "output_type": "stream",
     "text": [
      "no of Z's and O's ::5\n",
      "ZZZZZOOOOO\n"
     ]
    }
   ],
   "source": [
    "# 14th\n",
    "\n",
    "x = int(input(\"no of Z's and O's ::\"))\n",
    "print(\"Z\"*x + \"O\"*x)"
   ]
  },
  {
   "cell_type": "code",
   "execution_count": 31,
   "metadata": {},
   "outputs": [
    {
     "name": "stdout",
     "output_type": "stream",
     "text": [
      "Enter 1st integer : 5\n",
      "Enter 2nd integer : 3\n",
      "125\n",
      "1\n",
      "9\n"
     ]
    }
   ],
   "source": [
    "# 15th\n",
    "\n",
    "x = int(input('Enter 1st integer : '))\n",
    "y = int(input('Enter 2nd integer : '))\n",
    "pow = x**y\n",
    "div = x//y\n",
    "print(pow)\n",
    "print(div)\n",
    "print(div ^ (x+y))"
   ]
  },
  {
   "cell_type": "code",
   "execution_count": null,
   "metadata": {},
   "outputs": [],
   "source": [
    "\n"
   ]
  }
 ],
 "metadata": {
  "kernelspec": {
   "display_name": "Python 3",
   "language": "python",
   "name": "python3"
  },
  "language_info": {
   "codemirror_mode": {
    "name": "ipython",
    "version": 3
   },
   "file_extension": ".py",
   "mimetype": "text/x-python",
   "name": "python",
   "nbconvert_exporter": "python",
   "pygments_lexer": "ipython3",
   "version": "3.7.6"
  }
 },
 "nbformat": 4,
 "nbformat_minor": 4
}
